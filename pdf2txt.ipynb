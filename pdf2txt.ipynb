{
 "cells": [
  {
   "cell_type": "code",
   "execution_count": null,
   "id": "2204b121-fa20-44a0-91ba-2535479096a5",
   "metadata": {},
   "outputs": [],
   "source": [
    "import fitz  # PyMuPDF\n",
    "\n",
    "def extract_text_from_pdf(pdf_path):\n",
    "    doc = fitz.open(pdf_path)\n",
    "    pages_text = []\n",
    "\n",
    "    for page_num in range(doc.page_count):\n",
    "        page = doc.load_page(page_num)\n",
    "\n",
    "        page_width = page.rect.width\n",
    "        page_height = page.rect.height\n",
    "\n",
    "        blocks = page.get_text(\"blocks\")\n",
    "        left_count, right_count = 0, 0\n",
    "\n",
    "        for block in blocks:\n",
    "            block_center_x = (block[0] + block[2]) / 2\n",
    "            if block_center_x < page_width / 2:\n",
    "                left_count += 1\n",
    "            else:\n",
    "                right_count += 1\n",
    "\n",
    "        is_two_columns = right_count > left_count * 0.3  ",
    "\n",
    "        if is_two_columns:\n",
    "            left_rect = fitz.Rect(0, 0, page_width / 2, page_height)  ",
    "            right_rect = fitz.Rect(page_width / 2, 0, page_width, page_height)  ",
    "\n",
    "            left_text = page.get_text(\"text\", clip=left_rect).replace('\\n', ' ')\n",
    "            right_text = page.get_text(\"text\", clip=right_rect).replace('\\n', ' ')\n",
    "\n",
    "            page_text = left_text + \" \" + right_text\n",
    "        else:\n",
    "            page_text = page.get_text(\"text\").replace('\\n', ' ')\n",
    "\n",
    "        pages_text.append(page_text)\n",
    "\n",
    "    return pages_text  
   ]
  }
 ],
 "metadata": {
  "kernelspec": {
   "display_name": "Python 3 (ipykernel)",
   "language": "python",
   "name": "python3"
  },
  "language_info": {
   "codemirror_mode": {
    "name": "ipython",
    "version": 3
   },
   "file_extension": ".py",
   "mimetype": "text/x-python",
   "name": "python",
   "nbconvert_exporter": "python",
   "pygments_lexer": "ipython3",
   "version": "3.11.4"
  }
 },
 "nbformat": 4,
 "nbformat_minor": 5
}
