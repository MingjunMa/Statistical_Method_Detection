{
 "cells": [
  {
   "cell_type": "code",
   "execution_count": null,
   "id": "2204b121-fa20-44a0-91ba-2535479096a5",
   "metadata": {},
   "outputs": [],
   "source": [
    "import fitz  # PyMuPDF\n",
    "\n",
    "def extract_text_from_pdf(pdf_path):\n",
    "    \"\"\"提取PDF中的文本，自动判断单列或两列布局，输出纯文本字符\"\"\"\n",
    "    doc = fitz.open(pdf_path)\n",
    "    pages_text = []\n",
    "\n",
    "    for page_num in range(doc.page_count):\n",
    "        page = doc.load_page(page_num)\n",
    "\n",
    "        # 获取页面的尺寸\n",
    "        page_width = page.rect.width\n",
    "        page_height = page.rect.height\n",
    "\n",
    "        # 获取页面的文本块，用于判断布局\n",
    "        blocks = page.get_text(\"blocks\")\n",
    "        left_count, right_count = 0, 0\n",
    "\n",
    "        for block in blocks:\n",
    "            # 计算文本块的中心位置\n",
    "            block_center_x = (block[0] + block[2]) / 2\n",
    "            if block_center_x < page_width / 2:\n",
    "                left_count += 1\n",
    "            else:\n",
    "                right_count += 1\n",
    "\n",
    "        # 如果右侧有大量文本块，则判断为两列布局\n",
    "        is_two_columns = right_count > left_count * 0.3  # 阈值可调整\n",
    "\n",
    "        if is_two_columns:\n",
    "            # 按两列布局处理文本\n",
    "            left_rect = fitz.Rect(0, 0, page_width / 2, page_height)  # 左侧区域\n",
    "            right_rect = fitz.Rect(page_width / 2, 0, page_width, page_height)  # 右侧区域\n",
    "\n",
    "            # 提取左列和右列的文本并移除多余的换行符\n",
    "            left_text = page.get_text(\"text\", clip=left_rect).replace('\\n', ' ')\n",
    "            right_text = page.get_text(\"text\", clip=right_rect).replace('\\n', ' ')\n",
    "\n",
    "            # 合并左列和右列文本，形成连续的段落\n",
    "            page_text = left_text + \" \" + right_text\n",
    "        else:\n",
    "            # 按单列布局处理文本，移除换行符\n",
    "            page_text = page.get_text(\"text\").replace('\\n', ' ')\n",
    "\n",
    "        # 将处理后的文本添加到总文本中\n",
    "        pages_text.append(page_text)\n",
    "\n",
    "    return pages_text  # 保持每个页面的文本独立"
   ]
  }
 ],
 "metadata": {
  "kernelspec": {
   "display_name": "Python 3 (ipykernel)",
   "language": "python",
   "name": "python3"
  },
  "language_info": {
   "codemirror_mode": {
    "name": "ipython",
    "version": 3
   },
   "file_extension": ".py",
   "mimetype": "text/x-python",
   "name": "python",
   "nbconvert_exporter": "python",
   "pygments_lexer": "ipython3",
   "version": "3.11.4"
  }
 },
 "nbformat": 4,
 "nbformat_minor": 5
}
